{
 "cells": [
  {
   "cell_type": "markdown",
   "metadata": {
    "slideshow": {
     "slide_type": "skip"
    }
   },
   "source": [
    "\\newcommand{\\volDisp}{\\mathrm{Subme}}"
   ]
  },
  {
   "cell_type": "markdown",
   "metadata": {
    "slideshow": {
     "slide_type": "slide"
    }
   },
   "source": [
    "## Automation\n",
    "  - In which I pick a problem to automate and tell you a little about it\n",
    "  \n",
    "## Automated Design\n",
    "  - As functional minimization (extrema finding) sets the stage"
   ]
  },
  {
   "cell_type": "markdown",
   "metadata": {
    "slideshow": {
     "slide_type": "slide"
    }
   },
   "source": [
    "## Automatic Differentiation \n",
    "  - Programming without (as much) _programming_\n",
    "  \n",
    "## Interval constraint programming  \n",
    "  - Design without (as much) _search_\n",
    "  \n",
    "## Results\n",
    "  - If your going to solve a problem, eventually you have to... solve a problem."
   ]
  },
  {
   "cell_type": "markdown",
   "metadata": {
    "slideshow": {
     "slide_type": "slide"
    }
   },
   "source": [
    "Pick a Problem, automate the generation of this kind of thing:\n",
    "\n",
    "![title](fig/RapidHull.png)\n",
    "\n",
    "(NURBS hullform in demo in Rhino, human created)"
   ]
  },
  {
   "cell_type": "code",
   "execution_count": 120,
   "metadata": {
    "slideshow": {
     "slide_type": "skip"
    }
   },
   "outputs": [],
   "source": [
    "import warnings\n",
    "warnings.filterwarnings('ignore') #sorry, I've got old code that needs updating -- shame on me!\n",
    "\n"
   ]
  },
  {
   "cell_type": "markdown",
   "metadata": {
    "slideshow": {
     "slide_type": "slide"
    }
   },
   "source": [
    "This is called,\n",
    "\n",
    "## Early Stage Ship Hull Design\n",
    "\n",
    "Why would we want to work on this?"
   ]
  },
  {
   "cell_type": "markdown",
   "metadata": {
    "slideshow": {
     "slide_type": "slide"
    }
   },
   "source": [
    "$$ \n",
    "\\begin{align*}\n",
    "\\nabla &: \\text{Displacement} \\\\\n",
    "\\text{L}_{\\text{WL}} &: \\text{waterline length} \\\\\n",
    "\\end{align*}\n",
    "$$"
   ]
  },
  {
   "cell_type": "code",
   "execution_count": 121,
   "metadata": {
    "slideshow": {
     "slide_type": "slide"
    }
   },
   "outputs": [],
   "source": [
    "import relational_lsplines as rsp #my stuff\n",
    "\n",
    "import numpy as np #linear algebra"
   ]
  },
  {
   "cell_type": "code",
   "execution_count": 122,
   "metadata": {
    "slideshow": {
     "slide_type": "skip"
    }
   },
   "outputs": [],
   "source": [
    "\n",
    "np.set_printoptions(precision=3)"
   ]
  },
  {
   "cell_type": "code",
   "execution_count": 123,
   "metadata": {
    "slideshow": {
     "slide_type": "slide"
    }
   },
   "outputs": [],
   "source": [
    "curve = rsp.curve #Bspline curve and surface module\n",
    "\n",
    "\n",
    "automatic_differentiation = rsp.automatic_differentiation #automatic_differentiation \"module\"\n",
    "                    # simple fwd mode with vectors and intervals supported\n",
    "\n",
    "adObjectMaker = automatic_differentiation.adObjectMaker\n",
    "\n",
    "ad = automatic_differentiation.ad                   #automatic differentiation class\n"
   ]
  },
  {
   "cell_type": "code",
   "execution_count": 124,
   "metadata": {
    "slideshow": {
     "slide_type": "slide"
    }
   },
   "outputs": [],
   "source": [
    "num_in_vec = 2  # problem space size\n",
    "\n",
    "identity = np.identity(num_in_vec)\n",
    "\n",
    "nullmatrix = np.zeros((num_in_vec,num_in_vec),float)"
   ]
  },
  {
   "cell_type": "code",
   "execution_count": 125,
   "metadata": {
    "slideshow": {
     "slide_type": "slide"
    }
   },
   "outputs": [
    {
     "name": "stdout",
     "output_type": "stream",
     "text": [
      "x0.value =  2.0\n",
      "x0.grad  =  [1. 0.]\n",
      "x0.hess  = \n",
      "[[0. 0.]\n",
      " [0. 0.]]\n"
     ]
    }
   ],
   "source": [
    "x0 = ad( 2., \n",
    "        grad = identity[0], \n",
    "        hess = nullmatrix, \n",
    "        of_scalars=True)\n",
    "\n",
    "print 'x0.value = ',x0.value\n",
    "print 'x0.grad  = ', x0.grad\n",
    "print 'x0.hess  = '\n",
    "print x0.hess"
   ]
  },
  {
   "cell_type": "markdown",
   "metadata": {
    "slideshow": {
     "slide_type": "slide"
    }
   },
   "source": [
    "So we have created a variable, x0\n",
    "\n",
    "We gave it a gradient and hessian associated with it, \n",
    "with sizes denoted by the problem space. \n",
    "\n",
    "Later, this part will be automated too.\n"
   ]
  },
  {
   "cell_type": "code",
   "execution_count": 126,
   "metadata": {
    "slideshow": {
     "slide_type": "slide"
    }
   },
   "outputs": [
    {
     "name": "stdout",
     "output_type": "stream",
     "text": [
      "\n",
      "x1.value =  2.0\n",
      "x1.grad  =  [0. 1.]\n",
      "x1.hess  = \n",
      "[[0. 0.]\n",
      " [0. 0.]]\n"
     ]
    }
   ],
   "source": [
    "x1 = ad( 2., \n",
    "        grad = identity[1], \n",
    "        hess = nullmatrix, \n",
    "        of_scalars=True)\n",
    "\n",
    "print ''\n",
    "print 'x1.value = ',x1.value\n",
    "print 'x1.grad  = ', x1.grad\n",
    "print 'x1.hess  = '\n",
    "print x1.hess"
   ]
  },
  {
   "cell_type": "code",
   "execution_count": 127,
   "metadata": {
    "slideshow": {
     "slide_type": "slide"
    }
   },
   "outputs": [
    {
     "name": "stdout",
     "output_type": "stream",
     "text": [
      "\n",
      "test value\n",
      "6.0\n",
      "\n",
      "test gradient\n",
      "[1. 4.]\n",
      "\n",
      "test hessian\n",
      "[[2. 2.]\n",
      " [2. 2.]]\n"
     ]
    }
   ],
   "source": [
    "test = x0 + x1**2\n",
    "print '\\ntest value'\n",
    "print test.value\n",
    "print '\\ntest gradient'\n",
    "print test.grad\n",
    "print '\\ntest hessian'\n",
    "print test.hess"
   ]
  },
  {
   "cell_type": "code",
   "execution_count": null,
   "metadata": {
    "slideshow": {
     "slide_type": "skip"
    }
   },
   "outputs": [],
   "source": []
  },
  {
   "cell_type": "code",
   "execution_count": null,
   "metadata": {},
   "outputs": [],
   "source": []
  },
  {
   "cell_type": "markdown",
   "metadata": {
    "slideshow": {
     "slide_type": "slide"
    }
   },
   "source": [
    "## (Interval) Constraint Programming\n",
    "\n",
    "\"A designer knows he has achieved perfection not when there is nothing left to add, but when there is nothing left to take away.\"  - Antoine de Saint-Exupéry"
   ]
  },
  {
   "cell_type": "markdown",
   "metadata": {
    "slideshow": {
     "slide_type": "notes"
    }
   },
   "source": [
    "Sorry, that's melodramatic.  \n",
    "I just fed my data into a slide generator algorithm.  \n",
    "I didn't have time to clean it up after."
   ]
  },
  {
   "cell_type": "code",
   "execution_count": null,
   "metadata": {
    "slideshow": {
     "slide_type": "slide"
    }
   },
   "outputs": [],
   "source": []
  }
 ],
 "metadata": {
  "celltoolbar": "Slideshow",
  "kernelspec": {
   "display_name": "Python 2",
   "language": "python",
   "name": "python2"
  },
  "language_info": {
   "codemirror_mode": {
    "name": "ipython",
    "version": 2
   },
   "file_extension": ".py",
   "mimetype": "text/x-python",
   "name": "python",
   "nbconvert_exporter": "python",
   "pygments_lexer": "ipython2",
   "version": "2.7.16"
  }
 },
 "nbformat": 4,
 "nbformat_minor": 2
}
