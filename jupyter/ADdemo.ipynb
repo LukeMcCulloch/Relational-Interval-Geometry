{
 "cells": [
  {
   "cell_type": "markdown",
   "metadata": {
    "slideshow": {
     "slide_type": "slide"
    }
   },
   "source": [
    "# Constraint Programming and Automatic Differentiation for Engineering Design\n",
    "***\n",
    "### Luke McCulloch, PhD"
   ]
  },
  {
   "cell_type": "markdown",
   "metadata": {
    "slideshow": {
     "slide_type": "skip"
    }
   },
   "source": [
    "\\newcommand{\\volDisp}{\\mathrm{Subme}}"
   ]
  },
  {
   "cell_type": "markdown",
   "metadata": {
    "slideshow": {
     "slide_type": "slide"
    }
   },
   "source": [
    "## Automation\n",
    "  - Here I pick a problem to automate and tell you a little about it\n",
    "  \n",
    "## Automated Design\n",
    "  - Functional minimization (extrema finding) sets the stage for what's to come"
   ]
  },
  {
   "cell_type": "markdown",
   "metadata": {
    "slideshow": {
     "slide_type": "slide"
    }
   },
   "source": [
    "## Automatic Differentiation \n",
    "  - Programming without (as much) programming\n",
    "  - Gradient decent without gradient coding\n",
    "  - Gradients and Hessians with \n",
    "    * no finite differences\n",
    "    * no symbolic derivatives\n",
    "    * values exact to floating point\n",
    "  \n",
    "## Interval constraint programming  \n",
    "  - Design without (as much) _search_\n",
    "  - Because we eliminate infeasible designs\n",
    "  \n",
    "## Results\n",
    "  - If your going to solve a problem, eventually you have to... solve a problem.\n",
    "  - I picked an easy one so I could finish with reasonable effort."
   ]
  },
  {
   "cell_type": "markdown",
   "metadata": {
    "slideshow": {
     "slide_type": "slide"
    }
   },
   "source": [
    "A picked problem:  automate the generation of this kind of thing:\n",
    "\n",
    "![title](fig/RapidHull.png)\n",
    "\n",
    "(NURBS early stage hullform (OSV type) in demo in Rhino, human created)"
   ]
  },
  {
   "cell_type": "code",
   "execution_count": 26,
   "metadata": {
    "slideshow": {
     "slide_type": "skip"
    }
   },
   "outputs": [],
   "source": [
    "import warnings\n",
    "warnings.filterwarnings('ignore') #sorry, I've got old code that needs updating -- shame on me!\n",
    "\n"
   ]
  },
  {
   "cell_type": "markdown",
   "metadata": {
    "slideshow": {
     "slide_type": "slide"
    }
   },
   "source": [
    "This is called,\n",
    "\n",
    "## Early Stage Ship Hull Design\n",
    "\n",
    "Why would we want to work on this?"
   ]
  },
  {
   "cell_type": "markdown",
   "metadata": {
    "slideshow": {
     "slide_type": "slide"
    }
   },
   "source": [
    "* One of a kind designs\n",
    "* Less standardization than other industries\n",
    "* No prototypes, less chance to iron out issues\n",
    "\n",
    "![title](fig/DesignChallenges.png)\n",
    "\n",
    "# Use Computation to Reduce Uncertainty"
   ]
  },
  {
   "cell_type": "markdown",
   "metadata": {
    "slideshow": {
     "slide_type": "slide"
    }
   },
   "source": [
    "![title](fig/TradDesignVsOptimization.png)\n",
    "\n",
    "# Automate Design Exploration"
   ]
  },
  {
   "cell_type": "markdown",
   "metadata": {
    "slideshow": {
     "slide_type": "slide"
    }
   },
   "source": [
    "## In Ship Design Automation, \n",
    "## geometry generation has been a major bottleneck\n",
    "* Physics solvers are \"mature\" (enough I guess)\n",
    "* we are _getting_ _better_ at meshing (not great yet)\n",
    "* we generate designs by the engineer-week (month? $$$)"
   ]
  },
  {
   "cell_type": "markdown",
   "metadata": {
    "slideshow": {
     "slide_type": "slide"
    }
   },
   "source": [
    "## Form Parameter Design\n",
    "\n",
    "* State of the art for early stage ship design\n",
    "* Works by constrained optimization, minimizing some energy fuctional with constraints.\n",
    "\n",
    "### It turns design into a functional to be minimized."
   ]
  },
  {
   "cell_type": "markdown",
   "metadata": {
    "slideshow": {
     "slide_type": "slide"
    }
   },
   "source": [
    "## What kinds of properties do we care about?\n",
    "$$ \n",
    "\\begin{align*}\n",
    "\\nabla &: \\text{Displacement} \\\\\n",
    "L_{\\text{WL}} &: \\text{waterline length} \\\\\n",
    "B &: \\text{beam} \\\\\n",
    "D &: \\text{depth} \\\\\n",
    "etc  ...\n",
    "\\end{align*}\n",
    "$$\n",
    "![title](fig/Rules/Cb.png)\n",
    "### Basic sizing, dimensions, and ..."
   ]
  },
  {
   "cell_type": "markdown",
   "metadata": {
    "slideshow": {
     "slide_type": "skip"
    }
   },
   "source": [
    "## What kinds of properties do we care about?"
   ]
  },
  {
   "cell_type": "markdown",
   "metadata": {
    "slideshow": {
     "slide_type": "slide"
    }
   },
   "source": [
    "## Properties we care about:  differential / transitional\n",
    "![title](fig/HullProperties/DifferentialProperties.png)"
   ]
  },
  {
   "cell_type": "markdown",
   "metadata": {
    "slideshow": {
     "slide_type": "slide"
    }
   },
   "source": [
    "## Properties we care about: sectional areas\n",
    "![title](fig/midship_inplace.png)"
   ]
  },
  {
   "cell_type": "markdown",
   "metadata": {
    "slideshow": {
     "slide_type": "slide"
    }
   },
   "source": [
    "## Properties we care about:  sectional area\n",
    "![title](fig/HullProperties/MidshipCoeff.png)"
   ]
  },
  {
   "cell_type": "markdown",
   "metadata": {
    "slideshow": {
     "slide_type": "skip"
    }
   },
   "source": [
    "## What kinds of properties do we care about?"
   ]
  },
  {
   "cell_type": "markdown",
   "metadata": {
    "slideshow": {
     "slide_type": "slide"
    }
   },
   "source": [
    "## Properties we care about:  volumetric / represented as area again!\n",
    "![title](fig/HullProperties/SAC.png)"
   ]
  },
  {
   "cell_type": "markdown",
   "metadata": {
    "slideshow": {
     "slide_type": "skip"
    }
   },
   "source": [
    "## What kinds of properties do we care about?"
   ]
  },
  {
   "cell_type": "markdown",
   "metadata": {
    "slideshow": {
     "slide_type": "slide"
    }
   },
   "source": [
    "## Properties we care about: curvature\n",
    "![title](fig/HullProperties/ManualDeformDerivativeIssue.png)"
   ]
  },
  {
   "cell_type": "markdown",
   "metadata": {
    "slideshow": {
     "slide_type": "slide"
    }
   },
   "source": [
    "## Control Properties with: Form Parameter Design\n",
    "![title](fig/FPD/FPDsummary.png)"
   ]
  },
  {
   "cell_type": "markdown",
   "metadata": {
    "slideshow": {
     "slide_type": "slide"
    }
   },
   "source": [
    "## How do we Make a B-spline curve which conforms to constraints?\n",
    "![title](fig/FPD/cagd15curvedefBig.png)"
   ]
  },
  {
   "cell_type": "markdown",
   "metadata": {
    "slideshow": {
     "slide_type": "slide"
    }
   },
   "source": [
    "Find a two dimensional open B-spline curve\n",
    "\n",
    "\\begin{equation}\n",
    "\\underline{q}(t)\\;=\\;\\sum_{i=0}^{n}\\underline{V}_{i}N_{i,k}(t) \n",
    "\\label{eq:optproblem}\n",
    "\\end{equation}\n",
    "\n",
    "such that a flexible set of selected form parameters \n",
    "is met and, in addition, the curve is considered \"good\" \n",
    "in terms of a problem-oriented measure."
   ]
  },
  {
   "cell_type": "markdown",
   "metadata": {
    "slideshow": {
     "slide_type": "notes"
    }
   },
   "source": [
    "Find a B-spline curve of given order $k$, number of vertices $n+1$, and specified knot \n",
    "vector $\\underline{T}$ "
   ]
  },
  {
   "cell_type": "markdown",
   "metadata": {
    "slideshow": {
     "slide_type": "slide"
    }
   },
   "source": [
    "Problem:\n",
    "\t\n",
    "$$\n",
    "F = f + \\sum_{j \\in \\left[ \\forall h \\right]}  \\lambda_j h_j    \n",
    "$$\n",
    "\t\n",
    "\t\n",
    "$$F = F\\left(\\underline{V},\\underline{\\lambda}\\right)$$\n",
    "\t\n",
    "Solution:\n",
    "\t\n",
    "$$\\underline{\\nabla} F = [0,0,0,0.... ]^T$$\n",
    "\t\n",
    "Find control vertices and Lagrange multipliers such that \n",
    "the gradient of $F$ is $\\underline{0}$\n",
    "\t\n",
    "Solve via Newton's method."
   ]
  },
  {
   "cell_type": "code",
   "execution_count": 27,
   "metadata": {
    "slideshow": {
     "slide_type": "slide"
    }
   },
   "outputs": [],
   "source": [
    "import numpy as np #linear algebra\n",
    "np.set_printoptions(precision=3)"
   ]
  },
  {
   "cell_type": "code",
   "execution_count": 28,
   "metadata": {
    "slideshow": {
     "slide_type": "slide"
    }
   },
   "outputs": [],
   "source": [
    "import relational_lsplines as rsp #my stuff"
   ]
  },
  {
   "cell_type": "code",
   "execution_count": 29,
   "metadata": {
    "slideshow": {
     "slide_type": "slide"
    }
   },
   "outputs": [],
   "source": [
    "curve = rsp.curve #Bspline curve and surface module\n",
    "\n",
    "\n",
    "automatic_differentiation = rsp.automatic_differentiation #automatic_differentiation \"module\"\n",
    "                    # simple fwd mode with vectors and intervals supported\n",
    "\n",
    "adObjectMaker = automatic_differentiation.adObjectMaker\n",
    "\n",
    "ad = automatic_differentiation.ad                   #automatic differentiation class\n"
   ]
  },
  {
   "cell_type": "markdown",
   "metadata": {
    "slideshow": {
     "slide_type": "slide"
    }
   },
   "source": [
    "## How to Auto Diff\n",
    "\n",
    "In principle, for automatic differentiation on a design space, you need only very simple things"
   ]
  },
  {
   "cell_type": "code",
   "execution_count": 30,
   "metadata": {
    "slideshow": {
     "slide_type": "slide"
    }
   },
   "outputs": [],
   "source": [
    "num_in_vec = 2  # problem space size, in this toy example\n",
    "\n",
    "identity = np.matrix(np.identity(num_in_vec)) # [2x2] identity matrix\n",
    "\n",
    "nullmatrix = np.matrix(np.zeros((num_in_vec,num_in_vec),float)) # [2x2] matrix of 0s"
   ]
  },
  {
   "cell_type": "code",
   "execution_count": 31,
   "metadata": {
    "slideshow": {
     "slide_type": "slide"
    }
   },
   "outputs": [
    {
     "name": "stdout",
     "output_type": "stream",
     "text": [
      "x0.value =  0.5\n",
      "x0.grad  =  [[1. 0.]]\n",
      "x0.hess  = \n",
      "[[0. 0.]\n",
      " [0. 0.]]\n"
     ]
    }
   ],
   "source": [
    "x0 = ad(0.5, \n",
    "        grad  = identity[0], \n",
    "        hess  = nullmatrix, \n",
    "        of_scalars=True)\n",
    "\n",
    "print 'x0.value = ',x0.value\n",
    "print 'x0.grad  = ', x0.grad\n",
    "print 'x0.hess  = '\n",
    "print x0.hess"
   ]
  },
  {
   "cell_type": "markdown",
   "metadata": {
    "slideshow": {
     "slide_type": "notes"
    }
   },
   "source": [
    "### This use of the identity matrix to appoint gradients to free variables of the design space is reminecint of the adjacency matrix from meshing.\n",
    "\n",
    "* and we all know that the connectivity of a mesh, as defined by it's adjacency matrices on vertices, edges, and faces, leads directly to the exterior derivative of said quantities.\n",
    "* coincidence?  Heck no!\n",
    "\n"
   ]
  },
  {
   "cell_type": "markdown",
   "metadata": {
    "slideshow": {
     "slide_type": "slide"
    }
   },
   "source": [
    "So we have created a variable, x0\n",
    "\n",
    "We gave it a gradient and hessian associated with it, \n",
    "with sizes denoted by the problem space. \n",
    "\n",
    "Later, this part will be automated too.\n"
   ]
  },
  {
   "cell_type": "code",
   "execution_count": 32,
   "metadata": {
    "slideshow": {
     "slide_type": "slide"
    }
   },
   "outputs": [
    {
     "name": "stdout",
     "output_type": "stream",
     "text": [
      "\n",
      "x1.value =  2.0\n",
      "x1.grad  =  [[0. 1.]]\n",
      "x1.hess  = \n",
      "[[0. 0.]\n",
      " [0. 0.]]\n"
     ]
    }
   ],
   "source": [
    "x1 = ad(2.0, \n",
    "        grad  = identity[1], \n",
    "        hess  = nullmatrix, \n",
    "        of_scalars=True)\n",
    "\n",
    "print ''\n",
    "print 'x1.value = ',x1.value\n",
    "print 'x1.grad  = ', x1.grad\n",
    "print 'x1.hess  = '\n",
    "print x1.hess\n",
    "\n",
    "\n"
   ]
  },
  {
   "cell_type": "code",
   "execution_count": 33,
   "metadata": {
    "slideshow": {
     "slide_type": "slide"
    }
   },
   "outputs": [
    {
     "name": "stdout",
     "output_type": "stream",
     "text": [
      "\n",
      "test value\n",
      "4.5\n",
      "\n",
      "test gradient\n",
      "[[1. 4.]]\n",
      "\n",
      "test hessian\n",
      "[[0. 0.]\n",
      " [0. 2.]]\n"
     ]
    }
   ],
   "source": [
    "test = x0 + x1**2\n",
    "\n",
    "print '\\ntest value'\n",
    "print test.value\n",
    "\n",
    "print '\\ntest gradient'\n",
    "print test.grad\n",
    "\n",
    "print '\\ntest hessian'\n",
    "print test.hess"
   ]
  },
  {
   "cell_type": "code",
   "execution_count": null,
   "metadata": {
    "slideshow": {
     "slide_type": "skip"
    }
   },
   "outputs": [],
   "source": []
  },
  {
   "cell_type": "code",
   "execution_count": null,
   "metadata": {},
   "outputs": [],
   "source": []
  },
  {
   "cell_type": "markdown",
   "metadata": {
    "slideshow": {
     "slide_type": "slide"
    }
   },
   "source": [
    "## (Interval) Constraint Programming\n",
    "\n",
    "> A designer knows he has achieved perfection not when there is nothing left to add, but when there is nothing left to take away. \n",
    "\n",
    "\\-Antoine de Saint-Exupéry"
   ]
  },
  {
   "cell_type": "markdown",
   "metadata": {
    "slideshow": {
     "slide_type": "notes"
    }
   },
   "source": [
    "Sorry, that's melodramatic.  \n",
    "I just fed my data into a slide generator algorithm.  \n",
    "I didn't have time to clean it up after."
   ]
  },
  {
   "cell_type": "markdown",
   "metadata": {
    "slideshow": {
     "slide_type": "slide"
    }
   },
   "source": [
    "With a section curve, one constraint is that the area of the section should fit in a box:\n",
    "\n",
    "<img src=\"fig/midship_section.png\" alt=\"Drawing\" style=\"width: 400px;\"/>"
   ]
  },
  {
   "cell_type": "markdown",
   "metadata": {
    "slideshow": {
     "slide_type": "slide"
    }
   },
   "source": []
  },
  {
   "cell_type": "markdown",
   "metadata": {
    "slideshow": {
     "slide_type": "slide"
    }
   },
   "source": []
  }
 ],
 "metadata": {
  "celltoolbar": "Slideshow",
  "kernelspec": {
   "display_name": "Python 2",
   "language": "python",
   "name": "python2"
  },
  "language_info": {
   "codemirror_mode": {
    "name": "ipython",
    "version": 2
   },
   "file_extension": ".py",
   "mimetype": "text/x-python",
   "name": "python",
   "nbconvert_exporter": "python",
   "pygments_lexer": "ipython2",
   "version": "2.7.16"
  }
 },
 "nbformat": 4,
 "nbformat_minor": 2
}
