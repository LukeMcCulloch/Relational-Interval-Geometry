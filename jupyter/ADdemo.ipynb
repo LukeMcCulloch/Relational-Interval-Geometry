{
 "cells": [
  {
   "cell_type": "code",
   "execution_count": 7,
   "metadata": {},
   "outputs": [],
   "source": [
    "import warnings\n",
    "warnings.filterwarnings('ignore') #sorry, I've got old plotting code, and I'm running 2.7 -- shame on me!\n",
    "\n",
    "import relational_lsplines as rsp #my stuff\n",
    "\n",
    "import numpy as np #linear algebra\n",
    "np.set_printoptions(precision=3)"
   ]
  },
  {
   "cell_type": "raw",
   "metadata": {},
   "source": [
    "curve = rsp.curve                               #Bspline curve and surface module\n",
    "ad = rsp.automatic_differentiation.ad           #automatic differentiation\n",
    "ia = rsp.ia                                     #interval analysis"
   ]
  },
  {
   "cell_type": "code",
   "execution_count": 4,
   "metadata": {},
   "outputs": [],
   "source": [
    "curve = rsp.curve #Bspline curve and surface module\n",
    "\n",
    "\n",
    "automatic_differentiation = rsp.automatic_differentiation # just what it sounds like,\n",
    "                                    # with vectors and intervals supported\n",
    "\n",
    "adObjectMaker = automatic_differentiation.adObjectMaker\n",
    "\n",
    "ad = automatic_differentiation.ad                   #automatic differentiation class\n",
    "\n",
    "ia = rsp.ia                                         #interval analysis class\n",
    "\n",
    "\n",
    "num_in_vec = 2\n"
   ]
  },
  {
   "cell_type": "code",
   "execution_count": 5,
   "metadata": {},
   "outputs": [],
   "source": [
    "x0 = ad( 2., N=num_in_vec, dim=0, of_scalars=True)\n",
    "x1 = ad( 2., N=num_in_vec, dim=1, of_scalars=True)\n",
    "\n",
    "test = x0 + x1**2"
   ]
  },
  {
   "cell_type": "code",
   "execution_count": 6,
   "metadata": {},
   "outputs": [
    {
     "name": "stdout",
     "output_type": "stream",
     "text": [
      "\n",
      "test value\n",
      "6.0\n",
      "\n",
      "test gradient\n",
      "[[1. 4.]]\n",
      "\n",
      "test hessian\n",
      "[[0. 0.]\n",
      " [0. 2.]]\n"
     ]
    }
   ],
   "source": [
    "print '\\ntest value'\n",
    "print test.value\n",
    "print '\\ntest gradient'\n",
    "print test.grad\n",
    "print '\\ntest hessian'\n",
    "print test.hess\n"
   ]
  },
  {
   "cell_type": "code",
   "execution_count": null,
   "metadata": {},
   "outputs": [],
   "source": []
  }
 ],
 "metadata": {
  "kernelspec": {
   "display_name": "Python 2",
   "language": "python",
   "name": "python2"
  },
  "language_info": {
   "codemirror_mode": {
    "name": "ipython",
    "version": 2
   },
   "file_extension": ".py",
   "mimetype": "text/x-python",
   "name": "python",
   "nbconvert_exporter": "python",
   "pygments_lexer": "ipython2",
   "version": "2.7.16"
  }
 },
 "nbformat": 4,
 "nbformat_minor": 2
}
