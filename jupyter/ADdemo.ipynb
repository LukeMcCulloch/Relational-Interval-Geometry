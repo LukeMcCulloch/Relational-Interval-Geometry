{
 "cells": [
  {
   "cell_type": "markdown",
   "metadata": {
    "slideshow": {
     "slide_type": "slide"
    }
   },
   "source": [
    "# Constraint Programming and <br> Automatic Differentiation <br> for Automated Engineering Design\n",
    "***\n",
    "### Luke McCulloch, PhD"
   ]
  },
  {
   "cell_type": "markdown",
   "metadata": {
    "slideshow": {
     "slide_type": "skip"
    }
   },
   "source": [
    "$$\n",
    "\\def\\ptl{\\partial}\n",
    "\\newcommand{\\td}[1]{\\text{d}#1}\n",
    "\\def\\dt{\\td{t}\\,}\n",
    "\\def\\dx{\\td{x}\\,}\n",
    "\\def\\dy{\\td{y}\\,}\n",
    "\\def\\dz{\\td{z}\\,}\n",
    "\\def\\dA{\\td{A}\\,}\n",
    "$$\n",
    "$$\n",
    "\\newcommand{\\lwl}{\\text{L}_{\\text{WL}}}\n",
    "\\newcommand{\\lpp}{\\text{L}_{\\text{PP}}}\n",
    "\\newcommand{\\loa}{\\text{L}_{\\text{OA}}}\n",
    "\\newcommand{\\volDisp}{\\nabla}\n",
    "\\newcommand{\\beam}{\\text{B}}\n",
    "\\newcommand{\\draft}{\\text{D}}\n",
    "\\newcommand{\\draught}{\\text{T}}\n",
    "\\newcommand{\\cb}{\\text{C}_{\\text{B}}}\n",
    "\\newcommand{\\cp}{\\text{C}_{\\text{P}}}\n",
    "\\newcommand{\\cwp}{\\text{C}_{\\text{WP}}}\n",
    "\\newcommand{\\cmdshp}{\\text{C}_{\\text{M}}}\n",
    "\\newcommand{\\am}{\\text{A}_{\\text{M}}}\n",
    "\\newcommand{\\awp}{\\text{A}_{\\text{WP}}}\n",
    "\\newcommand{\\lcg}{\\text{LCG}}\n",
    "\\newcommand{\\lcb}{\\text{LCB}}\n",
    "$$\n",
    "\n",
    "$$\n",
    "\\newcommand{\\CWL}{\\text{CWL}}\n",
    "\\newcommand{\\lenFWL}{\\text{LF}_{ \\text{CWL} } }  \n",
    "\\newcommand{\\CPK}{\\text{CPK}}\n",
    "\\newcommand{\\lenFCPK}{\\text{LF}_{ \\text{CPK} } }  \n",
    "\\newcommand{\\FPD}{\\text{Form Parameter Design} }\n",
    "\\newcommand{\\fpd}{\\text{form parameter design} }\n",
    "\\newcommand{\\fpdi}{\\text{FPD} }\n",
    "\\newcommand{\\fpshd}{\\text{form parameter ship hull design} }\n",
    "\\newcommand{\\FPSHD}{\\text{Form Parameter Shi Hull Design} }\n",
    "\\newcommand{\\clp}{constraint logic programming}\n",
    "\\newcommand{\\CLP}{Constraint Logic Programming}\n",
    "\\newcommand{\\ai}{\\text{ai}}\n",
    "\\newcommand{\\AI}{\\text{AI}}\n",
    "\\newcommand{\\OR}{\\text{OR}}\n",
    "\\newcommand{\\vx}{\\ul{v}_x}\n",
    "\\newcommand{\\vy}{\\ul{v}_y}\n",
    "\\newcommand{\\ivx}{\\ul{\\textbf{v}}_x}\n",
    "\\newcommand{\\ivy}{\\ul{\\textbf{v}}_y}\n",
    "$$\n",
    "\n",
    "$$\n",
    "\\newcommand{\\ImportantNote}{\\text{Note that}}\n",
    "\\newcommand{\\FutureNote}{\\text{In the future}}\n",
    "$$\n",
    "\n",
    "$$\n",
    "\\newcommand{\\cbformula}{ \\frac{\\volDisp}{\\lwl \\times \\beam \t\\times \\draft}}\n",
    "\\newcommand{\\cpformula}{ \\frac{\\nabla}{\\lwl \\times \\text{B} \\times D \\times \\cmdshp} }\n",
    "\\newcommand{\\cwpformula}{ \\frac{\\awp}{\\lwl \\times \\beam} }\n",
    "\\newcommand{\\cmdshpformula}{\\frac{\\am}{\\text{B} \\times \\text{D}}}\n",
    "$$"
   ]
  },
  {
   "cell_type": "markdown",
   "metadata": {
    "slideshow": {
     "slide_type": "slide"
    }
   },
   "source": [
    "# Motivation\n",
    "\n",
    "## Automation\n",
    "  - Here I pick a problem to automate and tell you a little about it \n",
    "  \n",
    "## Design\n",
    "  - Constrained functional minimization (extrema finding) sets the stage for what's to come"
   ]
  },
  {
   "cell_type": "markdown",
   "metadata": {
    "slideshow": {
     "slide_type": "slide"
    }
   },
   "source": [
    "# What's to come?\n",
    "\n",
    "## Automatic Differentiation \n",
    "  - Programming without (as much) programming\n",
    "  \n",
    "## (interval) Constraint programming  \n",
    "  - Design without (as much) _search_\n",
    "  \n",
    "## Results\n",
    "  - If your going to solve a problem, eventually you have to... solve a problem.\n",
    "  - Let's see some results"
   ]
  },
  {
   "cell_type": "markdown",
   "metadata": {
    "slideshow": {
     "slide_type": "slide"
    }
   },
   "source": [
    "A picked problem:  automate the generation of this kind of thing:\n",
    "\n",
    "![title](fig/RapidHull.png)\n",
    "\n",
    "(NURBS early stage hullform (OSV type) in demo in Rhino, human created)"
   ]
  },
  {
   "cell_type": "code",
   "execution_count": 1,
   "metadata": {
    "slideshow": {
     "slide_type": "skip"
    }
   },
   "outputs": [],
   "source": [
    "import warnings\n",
    "warnings.filterwarnings('ignore') #sorry, I've got old code that needs updating -- shame on me!\n",
    "\n"
   ]
  },
  {
   "cell_type": "markdown",
   "metadata": {
    "slideshow": {
     "slide_type": "slide"
    }
   },
   "source": [
    "This is called,\n",
    "\n",
    "## Early Stage Ship Hull Design\n",
    "\n",
    "Why would we want to work on this?"
   ]
  },
  {
   "cell_type": "markdown",
   "metadata": {
    "slideshow": {
     "slide_type": "slide"
    }
   },
   "source": [
    "* One of a kind designs\n",
    "* Less standardization than other industries\n",
    "* No prototypes, less chance to iron out issues\n",
    "\n",
    "![title](fig/DesignChallenges.png)\n",
    "\n",
    "# Use Computation to Reduce Uncertainty"
   ]
  },
  {
   "cell_type": "markdown",
   "metadata": {
    "slideshow": {
     "slide_type": "slide"
    }
   },
   "source": [
    "## In Ship Design Automation, \n",
    "## geometry generation has been a major bottleneck\n",
    "* Physics solvers are \"mature\" (some more so than others)\n",
    "* we are _getting_ _better_ at meshing (not great yet - also a bottleneck)\n",
    "* we generate designs by the engineer-week ($$$)"
   ]
  },
  {
   "cell_type": "markdown",
   "metadata": {
    "slideshow": {
     "slide_type": "slide"
    }
   },
   "source": [
    "## Form Parameter Design\n",
    "\n",
    "* State of the art for early stage ship design\n",
    "* Works by constrained optimization, minimizing some energy fuctional with constraints.\n",
    "\n",
    "### It turns design into a series of functionals to be minimized."
   ]
  },
  {
   "cell_type": "markdown",
   "metadata": {
    "slideshow": {
     "slide_type": "slide"
    }
   },
   "source": [
    "## What kinds of properties do we care about?\n",
    "$$ \n",
    "\\begin{align*}\n",
    "\\nabla &: \\text{Displacement} \\\\\n",
    "L_{\\text{WL}} &: \\text{waterline length} \\\\\n",
    "B &: \\text{beam} \\\\\n",
    "D &: \\text{depth} \\\\\n",
    "etc  ...\n",
    "\\end{align*}\n",
    "$$\n",
    "![title](fig/Rules/Cb.png)\n",
    "### Basic sizing, dimensions, and ..."
   ]
  },
  {
   "cell_type": "markdown",
   "metadata": {
    "slideshow": {
     "slide_type": "slide"
    }
   },
   "source": [
    "## Properties we care about:  differential / transitional\n",
    "<img src=\"fig/HullProperties/DifferentialProperties.png\" alt=\"Drawing\" style=\"width: 600px;\"/>"
   ]
  },
  {
   "cell_type": "markdown",
   "metadata": {
    "slideshow": {
     "slide_type": "slide"
    }
   },
   "source": [
    "## Properties we care about: sectional areas\n",
    "<img src=\"fig/midship_inplace.png\" alt=\"Drawing\" style=\"width: 500px;\"/>\n",
    "\n",
    "\n",
    "<img src=\"fig/HullProperties/MidshipCoeff.png\" alt=\"Drawing\" style=\"width: 500px;\"/>"
   ]
  },
  {
   "cell_type": "markdown",
   "metadata": {
    "slideshow": {
     "slide_type": "skip"
    }
   },
   "source": [
    "## Properties we care about:  sectional area\n",
    "![title](fig/HullProperties/MidshipCoeff.png)"
   ]
  },
  {
   "cell_type": "markdown",
   "metadata": {
    "slideshow": {
     "slide_type": "skip"
    }
   },
   "source": [
    "## What kinds of properties do we care about?"
   ]
  },
  {
   "cell_type": "markdown",
   "metadata": {
    "slideshow": {
     "slide_type": "slide"
    }
   },
   "source": [
    "## Properties we care about:  volumetric / represented as area again!\n",
    "<img src=\"fig/HullProperties/SAC.png\" alt=\"Drawing\" style=\"width: 600px;\"/>"
   ]
  },
  {
   "cell_type": "markdown",
   "metadata": {
    "slideshow": {
     "slide_type": "skip"
    }
   },
   "source": [
    "## What kinds of properties do we care about?"
   ]
  },
  {
   "cell_type": "markdown",
   "metadata": {
    "slideshow": {
     "slide_type": "slide"
    }
   },
   "source": [
    "## Properties we care about: curvature\n",
    "![title](fig/HullProperties/ManualDeformDerivativeIssue.png)"
   ]
  },
  {
   "cell_type": "markdown",
   "metadata": {
    "slideshow": {
     "slide_type": "notes"
    }
   },
   "source": [
    "Some of you might be thinking, for our purposes we need to only change sizes of pieces of structure, no need to worry about differential properties, or similar, don't worry, we have something in here for you too."
   ]
  },
  {
   "cell_type": "markdown",
   "metadata": {
    "slideshow": {
     "slide_type": "slide"
    }
   },
   "source": [
    "## Control Properties with: Form Parameter Design\n",
    "![title](fig/FPD/FPDsummary.png)"
   ]
  },
  {
   "cell_type": "markdown",
   "metadata": {
    "slideshow": {
     "slide_type": "notes"
    }
   },
   "source": [
    "The complicated slide above tries to convey how constraints\n",
    "\n",
    "are transformed into curves, \n",
    "\n",
    "which then inform a new layer of constraints, and subsequent curves\n",
    "\n",
    "in this multilayer hierarchical process from coarse grained global description\n",
    "\n",
    "to local description on the hull\n",
    "\n",
    "It's curve solving and constraints all the way down"
   ]
  },
  {
   "cell_type": "markdown",
   "metadata": {
    "slideshow": {
     "slide_type": "slide"
    }
   },
   "source": [
    "## How do we Make a B-spline curve which conforms to constraints?\n",
    "![title](fig/FPD/cagd15curvedefBig.png)"
   ]
  },
  {
   "cell_type": "markdown",
   "metadata": {
    "slideshow": {
     "slide_type": "slide"
    }
   },
   "source": [
    "Find a two dimensional open B-spline curve\n",
    "\n",
    "\\begin{equation}\n",
    "\\underline{q}(t)\\;=\\;\\sum_{i=0}^{n}\\underline{V}_{i}N_{i,k}(t) \n",
    "\\label{eq:optproblem}\n",
    "\\end{equation}\n",
    "\n",
    "such that a flexible set of selected form parameters, $\\underline{h}$ \n",
    "is met and, in addition, the curve is considered \"good\" \n",
    "in terms of a problem-oriented measure, $f$.\n",
    "\n",
    "$\\underline{V}_{i}$ are the control vertices.  These are the free variables in our design.\n",
    "<br>\n",
    "$N_{i,k}$ are the basis functions\n",
    "<br>\n",
    "$\\underline{q}\\left(t\\right)$ is the value of the curve at parameter $t$"
   ]
  },
  {
   "cell_type": "markdown",
   "metadata": {
    "slideshow": {
     "slide_type": "notes"
    }
   },
   "source": [
    "Find a B-spline curve of given order $k$, number of vertices $n+1$, and specified knot \n",
    "vector $\\underline{T}$ \n",
    "\n",
    "$\\underline{V}_{i}$ are the control vertices\n",
    "<br>\n",
    "$N_{i,k}$ are the basis functions\n",
    "<br>\n",
    "$\\underline{q}\\left(t\\right)$ is the value of the curve at parameter $t$"
   ]
  },
  {
   "cell_type": "markdown",
   "metadata": {
    "slideshow": {
     "slide_type": "slide"
    }
   },
   "source": [
    "So, write down the problem:\n",
    "\t\n",
    "$$\n",
    "F = f + \\sum_{j \\in \\left[ \\forall h \\right]}  \\lambda_j h_j    \n",
    "$$\n",
    "\n",
    "$$\n",
    "f = f\\left(\\underline{V}\\right) \\\\\n",
    "h_j = h_j\\left(\\underline{V}\\right) \\\\\n",
    "$$\n",
    "$f$ is a fairness functional to be minimized\n",
    "<br>\n",
    "$h$ are constraints to be satisfied\n",
    "<br>\n",
    "$\\lambda_j$ are Lagrange multipliers\n",
    "\t\n",
    "Solve via Newton's method.  (We want geometry that minimizes $F$)\n",
    "\t\n",
    "Solution: $\\underline{\\nabla} F = [0,0,0,0.... ]^T$\n",
    "\t\n",
    "Basically find control vertices and Lagrange multipliers such that \n",
    "the gradient of $F$ is zero. (Then check your solution)\t"
   ]
  },
  {
   "cell_type": "code",
   "execution_count": 2,
   "metadata": {
    "slideshow": {
     "slide_type": "skip"
    }
   },
   "outputs": [],
   "source": [
    "import numpy as np #linear algebra\n",
    "np.set_printoptions(precision=3)"
   ]
  },
  {
   "cell_type": "code",
   "execution_count": 3,
   "metadata": {
    "slideshow": {
     "slide_type": "skip"
    }
   },
   "outputs": [],
   "source": [
    "import relational_lsplines as rsp #my stuff"
   ]
  },
  {
   "cell_type": "code",
   "execution_count": 4,
   "metadata": {
    "slideshow": {
     "slide_type": "skip"
    }
   },
   "outputs": [],
   "source": [
    "spline = rsp.curve #Bspline curve and surface module\n",
    "\n",
    "\n",
    "automatic_differentiation = rsp.automatic_differentiation #automatic_differentiation \"module\"\n",
    "                    # simple fwd mode with vectors and intervals supported\n",
    "\n",
    "adObjectMaker = automatic_differentiation.adObjectMaker\n",
    "\n",
    "ad = automatic_differentiation.ad                   #automatic differentiation class\n",
    "\n",
    "num_in_vec = 2  # problem space size, in this toy example"
   ]
  },
  {
   "cell_type": "markdown",
   "metadata": {
    "slideshow": {
     "slide_type": "slide"
    }
   },
   "source": [
    "## What is Automatic Differentiation (AD)?\n",
    " * no finite differences\n",
    " * no symbolic derivatives\n",
    " * values exact to floating point\n",
    "\n",
    "Derivatives by construction:\n",
    "\n",
    " * Overload mathmatical operations to return value, gradient, and hessian\n",
    " * where each computation includes the natural rules from calculus.\n",
    "\n",
    "(Python Numpy makes it easy to extend to vectors and matrices)"
   ]
  },
  {
   "cell_type": "markdown",
   "metadata": {
    "slideshow": {
     "slide_type": "notes"
    }
   },
   "source": [
    "I am not going to get into the weeds on forward mode vs reverse mode here"
   ]
  },
  {
   "cell_type": "markdown",
   "metadata": {
    "slideshow": {
     "slide_type": "slide"
    }
   },
   "source": [
    "## How to setup AD\n",
    "\n",
    "(assuming you have built a class for the overloading...)\n",
    "\n",
    "For automatic differentiation on a design space, you need only a couple of matrices:"
   ]
  },
  {
   "cell_type": "code",
   "execution_count": 5,
   "metadata": {
    "slideshow": {
     "slide_type": "-"
    }
   },
   "outputs": [],
   "source": [
    "#Let's say my design space has only 2 variables for the moment\n",
    "\n",
    "# for the gradient\n",
    "identity = np.matrix(\n",
    "                np.identity(2)) # [2x2] identity matrix \n",
    "\n",
    "# for the Hessian\n",
    "nullmatrix = np.matrix(\n",
    "                np.zeros((2,2),float)) # [2x2] null matrix"
   ]
  },
  {
   "cell_type": "markdown",
   "metadata": {
    "slideshow": {
     "slide_type": "slide"
    }
   },
   "source": [
    "## How to setup AD\n",
    "\n",
    "Instantiate an AD object:"
   ]
  },
  {
   "cell_type": "code",
   "execution_count": 6,
   "metadata": {
    "slideshow": {
     "slide_type": "-"
    }
   },
   "outputs": [],
   "source": [
    "x0 = ad(0.5, \n",
    "        grad  = identity[0], \n",
    "        hess  = nullmatrix)\n"
   ]
  },
  {
   "cell_type": "markdown",
   "metadata": {
    "slideshow": {
     "slide_type": "notes"
    }
   },
   "source": [
    "### This use of the identity matrix to appoint gradients to free variables of the design space is reminecint of the adjacency matrix from meshing.\n",
    "\n",
    "* and we all know that the connectivity of a mesh, as defined by it's adjacency matrices on vertices, edges, and faces, leads directly to the exterior derivative of said quantities.\n",
    "* coincidence?  Heck no!\n",
    "\n"
   ]
  },
  {
   "cell_type": "code",
   "execution_count": 7,
   "metadata": {
    "slideshow": {
     "slide_type": "-"
    }
   },
   "outputs": [
    {
     "name": "stdout",
     "output_type": "stream",
     "text": [
      "x0.value =  0.5\n",
      "x0.grad  =  [[1. 0.]]\n",
      "x0.hess  = \n",
      "[[0. 0.]\n",
      " [0. 0.]]\n"
     ]
    }
   ],
   "source": [
    "\n",
    "print 'x0.value = ',x0.value\n",
    "print 'x0.grad  = ', x0.grad\n",
    "print 'x0.hess  = '\n",
    "print x0.hess"
   ]
  },
  {
   "cell_type": "markdown",
   "metadata": {
    "slideshow": {
     "slide_type": "slide"
    }
   },
   "source": [
    "## How to setup AD\n",
    "\n",
    "Here is the second variable."
   ]
  },
  {
   "cell_type": "code",
   "execution_count": 8,
   "metadata": {
    "slideshow": {
     "slide_type": "-"
    }
   },
   "outputs": [
    {
     "name": "stdout",
     "output_type": "stream",
     "text": [
      "\n",
      "x1.value =  2.0\n",
      "x1.grad  =  [[0. 1.]]\n",
      "x1.hess  = \n",
      "[[0. 0.]\n",
      " [0. 0.]]\n"
     ]
    }
   ],
   "source": [
    "x1 = ad(2.0, \n",
    "        grad  = identity[1], \n",
    "        hess  = nullmatrix)\n",
    "\n",
    "print ''\n",
    "print 'x1.value = ',x1.value\n",
    "print 'x1.grad  = ', x1.grad\n",
    "print 'x1.hess  = '\n",
    "print x1.hess\n",
    "\n",
    "\n"
   ]
  },
  {
   "cell_type": "markdown",
   "metadata": {
    "slideshow": {
     "slide_type": "-"
    }
   },
   "source": [
    "Now we are ready to compute something"
   ]
  },
  {
   "cell_type": "markdown",
   "metadata": {
    "slideshow": {
     "slide_type": "slide"
    }
   },
   "source": [
    "How about $f = x_0 + x_{1}^{2}$"
   ]
  },
  {
   "cell_type": "code",
   "execution_count": 9,
   "metadata": {
    "slideshow": {
     "slide_type": "-"
    }
   },
   "outputs": [
    {
     "name": "stdout",
     "output_type": "stream",
     "text": [
      "\n",
      "test value\n",
      "4.5\n",
      "\n",
      "test gradient\n",
      "[[1.]\n",
      " [4.]]\n",
      "\n",
      "test hessian\n",
      "[[0. 0.]\n",
      " [0. 2.]]\n"
     ]
    }
   ],
   "source": [
    "f = x0 + x1**2\n",
    "\n",
    "print '\\ntest value' # 0.5 + 2**2 = 4 is...?\n",
    "print f.value\n",
    "\n",
    "print '\\ntest gradient' # df/dx0 , df/dx1 is ..\n",
    "print f.grad.T\n",
    "\n",
    "print '\\ntest hessian' #[ [df/dx0dx0 ,..., df/dx1dx1]] is ... \n",
    "print f.hess"
   ]
  },
  {
   "cell_type": "markdown",
   "metadata": {
    "slideshow": {
     "slide_type": "slide"
    }
   },
   "source": [
    "## B-spline Curves"
   ]
  },
  {
   "cell_type": "code",
   "execution_count": 10,
   "metadata": {
    "slideshow": {
     "slide_type": "skip"
    }
   },
   "outputs": [],
   "source": [
    "\n",
    "def precompute_curve_integrals():\n",
    "\n",
    "    curve1.basis_matrix()\n",
    "    curve1.pts_M_pts() #arc length precomputation\n",
    "    curve1.compute_arclength()\n",
    "    curve1.MomentMatrices()\n",
    "    curve1.fairness()\n",
    "    curve1.compute_area()\n",
    "    return\n"
   ]
  },
  {
   "cell_type": "code",
   "execution_count": 11,
   "metadata": {
    "slideshow": {
     "slide_type": "-"
    }
   },
   "outputs": [
    {
     "data": {
      "text/plain": [
       "<matplotlib.axes._subplots.AxesSubplot at 0x7f04851bd210>"
      ]
     },
     "execution_count": 11,
     "metadata": {},
     "output_type": "execute_result"
    },
    {
     "data": {
      "image/png": "[encoded data removed]",
      "text/plain": [
       "<Figure size 432x288 with 1 Axes>"
      ]
     },
     "metadata": {
      "needs_background": "light"
     },
     "output_type": "display_data"
    }
   ],
   "source": [
    "dimensions = 2   # 2D curve example\n",
    "order      = 4   #degree + 1\n",
    "\n",
    "#numpy array:\n",
    "vertices   = np.asarray([[0.,0.],[2.,0.],[3.0,0.0],[3.0,8.0],\n",
    "                         [9.0,12.],[11.,12.],[12.,12.]])\n",
    "\n",
    "curve1 = spline.Bspline(vertices,order) #make Bspline curve\n",
    "curve1.plotcurve_detailed() #plot it\n"
   ]
  },
  {
   "cell_type": "markdown",
   "metadata": {
    "slideshow": {
     "slide_type": "slide"
    }
   },
   "source": [
    "## B-spline properties\n",
    "\n",
    "A fairness functional objective:\n",
    "\t\n",
    "\\begin{equation}\n",
    "E_N \\;=\\; \\intop_{t_{B}}^{t_{E}}\\left[\n",
    "\\left(\\frac{\\text{d}^{\\text{N}}q_{x}}{\\text{dt}^{\\text{N}}}\\right)^2\n",
    "\\,+\\, \\left(\\frac{\\text{d}^{\\text{N}} q_y}{\\text{dt}^{\\text{N}}}\\right)^2\\,\\right] \\text{dt}\n",
    "\\qquad\\text{with $N = 1,2,3$}\n",
    "\\end{equation}\n",
    "\n",
    "$E_N$-norms which approximate things with physical analogies.  e.g.\n",
    "the bending energy in the curve when $N=2$."
   ]
  },
  {
   "cell_type": "code",
   "execution_count": 12,
   "metadata": {
    "slideshow": {
     "slide_type": "-"
    }
   },
   "outputs": [
    {
     "name": "stdout",
     "output_type": "stream",
     "text": [
      "The value of the second fairness functional, E2 is,\n",
      "curve1.E2 = 7210.666666666669\n"
     ]
    }
   ],
   "source": [
    "precompute_curve_integrals()\n",
    "print 'The value of the second fairness functional, E2 is,'\n",
    "print 'curve1.E2 =', curve1.E2"
   ]
  },
  {
   "cell_type": "markdown",
   "metadata": {
    "slideshow": {
     "slide_type": "slide"
    }
   },
   "source": [
    "## Automatic Differentation of B-spline Curves\n",
    "First make AD variables that match the curve vertices:"
   ]
  },
  {
   "cell_type": "code",
   "execution_count": 13,
   "metadata": {
    "slideshow": {
     "slide_type": "-"
    }
   },
   "outputs": [],
   "source": [
    "num_in_vec = len(vertices)\n",
    "xpts = []\n",
    "ypts = []\n",
    "for i in range(num_in_vec):\n",
    "    xpti = vertices[i,0]\n",
    "    ypti = vertices[i,1]\n",
    "    xpts.append( ad( xpti, N=num_in_vec*dimensions, \n",
    "                    of_scalars=True, dim=i) )\n",
    "    ypts.append( ad( ypti, N=num_in_vec*dimensions, \n",
    "                    of_scalars=True, dim=i+num_in_vec) )"
   ]
  },
  {
   "cell_type": "markdown",
   "metadata": {
    "slideshow": {
     "slide_type": "slide"
    }
   },
   "source": [
    "## How about Auto Diff'ing fairness functionals?\n"
   ]
  },
  {
   "cell_type": "markdown",
   "metadata": {
    "slideshow": {
     "slide_type": "slide"
    }
   },
   "source": [
    "A fairness functional objective:\n",
    "\t\n",
    "\\begin{equation}\n",
    "E_N \\;=\\; \\intop_{t_{B}}^{t_{E}}\\left[\n",
    "\\left(\\frac{\\text{d}^{\\text{N}}q_{x}}{\\text{dt}^{\\text{N}}}\\right)^2\n",
    "\\,+\\, \\left(\\frac{\\text{d}^{\\text{N}} q_y}{\\text{dt}^{\\text{N}}}\\right)^2\\,\\right] \\text{dt}\n",
    "\\qquad\\text{with $N = 1,2,3$}\n",
    "\\end{equation}\n",
    "\n",
    "$E_N$-norms which approximate things with physical analogies.  e.g.\n",
    "the bending energy in the curve when $N=2$."
   ]
  },
  {
   "cell_type": "markdown",
   "metadata": {
    "slideshow": {
     "slide_type": "slide"
    }
   },
   "source": [
    "These can be re-written to pre-compute the integrals.\n",
    "\n",
    "\\begin{equation}\n",
    "E_N \\;=\\;  \\;   \n",
    "\\underline{v}_x^T \\cdot\n",
    "\\int_{t_B}^{t_E}  \\underline{\\underline{M}}_{N}(t) \\text{dt}  \\cdot \\underline{v}_x\n",
    "\\,-\\, \n",
    "\\underline{v}_{y}^T  \\cdot \n",
    "\\int_{t_B}^{t_E} \\underline{\\underline{M}}_{N}^T(t) \\text{dt}  \\cdot  \\underline{v}_{y}  \n",
    "\\end{equation}\n",
    "\n",
    "The $\\underline{\\underline{M}}_{N}$ are matrices of\n",
    "integrals of prodcts of basis functions and their derivatives which never change.\n"
   ]
  },
  {
   "cell_type": "code",
   "execution_count": 14,
   "metadata": {
    "slideshow": {
     "slide_type": "-"
    }
   },
   "outputs": [],
   "source": [
    "\n",
    "def fairness(curve, vertices=None):\n",
    "    \"\"\"\n",
    "        Method to compute the non-weighted fairness \n",
    "        functionals of a B-spline curve.\n",
    "\n",
    "    \"\"\"        \n",
    "    if vertices is None:\n",
    "        xpts = curve.vertices[:,0]\n",
    "        ypts = curve.vertices[:,1]\n",
    "    else:\n",
    "        xpts = vertices[0]\n",
    "        ypts = vertices[1]\n",
    "    E1 = np.dot(np.dot(xpts,curve.M1),xpts)+np.dot(np.dot(ypts,curve.M1),ypts)\n",
    "    E2 = np.dot(np.dot(xpts,curve.M2),xpts)+np.dot(np.dot(ypts,curve.M2),ypts)\n",
    "    E3 = np.dot(np.dot(xpts,curve.M3),xpts)+np.dot(np.dot(ypts,curve.M3),ypts)\n",
    "\n",
    "    return E1,E2,E3"
   ]
  },
  {
   "cell_type": "markdown",
   "metadata": {
    "slideshow": {
     "slide_type": "slide"
    }
   },
   "source": [
    "These can be re-written to pre-compute the integrals.\n",
    "\n",
    "\\begin{equation}\n",
    "E_N \\;=\\;  \\;   \n",
    "\\underline{v}_x^T \\cdot\n",
    "\\int_{t_B}^{t_E}  \\underline{\\underline{M}}_{N}(t) \\text{dt}  \\cdot \\underline{v}_x\n",
    "\\,-\\, \n",
    "\\underline{v}_{y}^T  \\cdot \n",
    "\\int_{t_B}^{t_E} \\underline{\\underline{M}}_{N}^T(t) \\text{dt}  \\cdot  \\underline{v}_{y}  \n",
    "\\end{equation}\n",
    "\n",
    "The $\\underline{\\underline{M}}_{N}$ are matrices of\n",
    "integrals of prodcts of basis functions and their derivatives which never change.\n",
    "\n",
    "Area integration goes the same way.\n",
    "For that matter, so do moments of area."
   ]
  },
  {
   "cell_type": "code",
   "execution_count": 15,
   "metadata": {
    "slideshow": {
     "slide_type": "-"
    }
   },
   "outputs": [
    {
     "name": "stdout",
     "output_type": "stream",
     "text": [
      "e2 value = 7210.66666667\n",
      "\n",
      "e2 gradient Transposed = \n",
      "[[-2496.     3456.     -352.    -1152.      544.      384.     -384.\n",
      "   1024.     -640.    -1237.333   682.667   554.667   128.     -512.   ]]\n"
     ]
    }
   ],
   "source": [
    "#call our new function with AD xpts and ypts:\n",
    "e1,e2,e3 = fairness(curve1, [xpts,ypts])\n",
    "\n",
    "print \"e2 value = {}\".format(e2.value)\n",
    "print ''\n",
    "print 'e2 gradient Transposed = '\n",
    "print e2.grad"
   ]
  },
  {
   "cell_type": "markdown",
   "metadata": {
    "slideshow": {
     "slide_type": "slide"
    }
   },
   "source": [
    "## How About B-spline Curvature?\n",
    "\n",
    "\\begin{align}\n",
    "c_B \\;&=\\; \\left.\\frac{\\dot{q}_{x}\\ddot{q}_{y}\n",
    "    \\,-\\,\\ddot{q}_{x}\\dot{q}_{y}}{\n",
    "    \\sqrt{\\dot{q}_{x}^{2}\\,+\\,\\dot{q}_{y}^{2}}}\n",
    "\\right|_{(t=t_{B})} \n",
    "\\end{align}\n",
    "\n",
    "Well, you can't pre-compute it efficiently, but it's just products of B-spline derivatives.\n",
    "<br>\n",
    "AD has no trouble.  \n",
    "<br> \n",
    "In general, we can compute tangents along the curve, arc length, centroids (using moments of area)... many quantities, all analytically."
   ]
  },
  {
   "cell_type": "markdown",
   "metadata": {
    "slideshow": {
     "slide_type": "slide"
    }
   },
   "source": [
    "# Let's Optimize this Curve"
   ]
  },
  {
   "cell_type": "code",
   "execution_count": 16,
   "metadata": {
    "slideshow": {
     "slide_type": "skip"
    }
   },
   "outputs": [],
   "source": [
    "# get the library components:\n",
    "ADILS = rsp.ADILS\n",
    "Lagrangian, IntervalLagrangeSpline = ADILS.Lagrangian, ADILS.IntervalLagrangeSpline\n",
    "FormParameter = rsp.FormParameter  \n",
    "FormParameterDict, generalized_aattractor = FormParameter.FormParameterDict, FormParameter.generalized_aattractor\n",
    "\n",
    "#yeah, this could be easier,\n",
    "initialValues  =  rsp.initialValues     \n",
    "InitializeControlPoints, InitializeControlVertices, \\\n",
    "                                  interval_bounds, lagrangian_bounds = initialValues.InitializeControlPoints, initialValues.InitializeControlVertices, \\\n",
    "                                  initialValues.interval_bounds, initialValues.lagrangian_bounds\n",
    "                                  \n"
   ]
  },
  {
   "cell_type": "code",
   "execution_count": 17,
   "metadata": {
    "slideshow": {
     "slide_type": "-"
    }
   },
   "outputs": [],
   "source": [
    "# create a dictionary to hold components of our Functional F:\n",
    "FPD = FormParameterDict(curve1) \n",
    "\n",
    "#fairness functional, f:\n",
    "FPD.add_E2(kind='LS') # \"LS\" asks our library to minimize \n",
    "\n",
    "\n",
    "# now the equality constraints:\n",
    "#\n",
    "# C1 (tangent) clamp at the ends:\n",
    "FPD.add_AngleConstraint(kind='equality', location = 0., value = 0.)\n",
    "FPD.add_AngleConstraint(kind='equality', location = 1., value = 0.)\n",
    "#\n",
    "# C2 curvature clamp at the ends\n",
    "FPD.add_CurvatureConstraint(kind='equality', location = 0., value = 0.)\n",
    "FPD.add_CurvatureConstraint(kind='equality', location = 1., value = 0.)\n",
    "\n",
    "#Setup done.\n"
   ]
  },
  {
   "cell_type": "markdown",
   "metadata": {
    "slideshow": {
     "slide_type": "slide"
    }
   },
   "source": [
    "# Let's Optimize this Curve"
   ]
  },
  {
   "cell_type": "code",
   "execution_count": 18,
   "metadata": {
    "slideshow": {
     "slide_type": "-"
    }
   },
   "outputs": [
    {
     "data": {
      "text/plain": [
       "<matplotlib.axes._subplots.AxesSubplot at 0x7f047f66dbd0>"
      ]
     },
     "execution_count": 18,
     "metadata": {},
     "output_type": "execute_result"
    },
    {
     "data": {
      "image/png": "[encoded data removed]",
      "text/plain": [
       "<Figure size 432x288 with 1 Axes>"
      ]
     },
     "metadata": {
      "needs_background": "light"
     },
     "output_type": "display_data"
    }
   ],
   "source": [
    "#setup and solve:\n",
    "L = Lagrangian(FPD) #shake and bake a bit\n",
    "Lspline = IntervalLagrangeSpline(curve1, L) #\"interval\" name is due to history\n",
    "vertices = Lspline.optimize() #solve it\n",
    "\n",
    "Lspline.curve.plotcurve_detailed()"
   ]
  },
  {
   "cell_type": "markdown",
   "metadata": {
    "slideshow": {
     "slide_type": "slide"
    }
   },
   "source": [
    "## Form Parameter Design (FPD) Shortcomings\n",
    "\n",
    "We optimized that curve.  Now we have the basics of FPD.\n",
    "\n",
    "We used Automatic Differentation to make implementation easy\n",
    "\n",
    "What's wrong with our automation now?"
   ]
  },
  {
   "cell_type": "markdown",
   "metadata": {
    "slideshow": {
     "slide_type": "slide"
    }
   },
   "source": [
    ">Even if all of the initially given form requirements are met, there are sometimes flaws in the resulting shapes because the form parameters may not be appropriately attuned to start with. It takes _judgment_ and often some _iteration_ in order to _harmonize_ all requirements.\n",
    "\n",
    "Computational Geometry for Ships, Nowaki, et al., 1995 "
   ]
  },
  {
   "cell_type": "markdown",
   "metadata": {
    "slideshow": {
     "slide_type": "slide"
    }
   },
   "source": [
    "# How do we harmonize this?\n",
    "\n",
    "<img src=\"fig/FPD/FPDsummary.png\" alt=\"Drawing\" style=\"width: 700px;\"/>\n",
    "\n"
   ]
  },
  {
   "cell_type": "markdown",
   "metadata": {
    "slideshow": {
     "slide_type": "slide"
    }
   },
   "source": [
    "# When our inputs look like this:\n",
    "\n",
    "\n",
    "![title](fig/FPDinput.png)"
   ]
  },
  {
   "cell_type": "markdown",
   "metadata": {
    "slideshow": {
     "slide_type": "slide"
    }
   },
   "source": [
    "## (Interval) Constraint Programming\n",
    "\n",
    "> A designer knows he has achieved perfection not when there is nothing left to add, but when there is nothing left to take away. \n",
    "\n",
    "\\-Antoine de Saint-Exupéry"
   ]
  },
  {
   "cell_type": "markdown",
   "metadata": {
    "slideshow": {
     "slide_type": "slide"
    }
   },
   "source": [
    "How to determine what to take away?\n",
    "### Use Natural Naval Archecture Design Relationships...\n",
    "\n",
    "Block Coefficient\n",
    "$$\n",
    "\\text{C}_{\\text{B}} = \\frac{\\nabla}{\\text{L}_{\\text{WL}} \\times \\text{B} \t\\times \\text{D}}\n",
    "$$\n",
    "Midship Coefficient\n",
    "$$\n",
    "\\text{C}_{\\text{M}} = \\frac{\\text{A}_{\\text{M}}}{\\text{B} \\times \\text{D}}\n",
    "$$\n",
    "Prismatic Coefficient\n",
    "$$\n",
    "\\text{C}_{\\text{P}} = \\frac{\\nabla}{\\text{L}_{\\text{WL}} \\times \\text{B} \\times D \\times \\text{C}_{\\text{M}}}= \\frac{\\text{C}_{\\text{B}}}{\\text{C}_{\\text{M}} }\n",
    "$$\n",
    "\n",
    "And many others.  In fact this framework you can invent your own."
   ]
  },
  {
   "cell_type": "markdown",
   "metadata": {
    "slideshow": {
     "slide_type": "slide"
    }
   },
   "source": [
    "## What do these rules look like?\n",
    "\n",
    "![title](fig/Rules/Cb.png)\n",
    "\n",
    "### Very similar to what we are already doing!"
   ]
  },
  {
   "cell_type": "markdown",
   "metadata": {
    "slideshow": {
     "slide_type": "-"
    }
   },
   "source": [
    " * instead of controlling one number directly as a constraint,\n",
    " * we specify relationships between the design variables, \n",
    " * and use constraint solving to eliminate infeasible choices"
   ]
  },
  {
   "cell_type": "markdown",
   "metadata": {
    "slideshow": {
     "slide_type": "slide"
    }
   },
   "source": [
    "# Wait, what are we going to do...?\n",
    "\n",
    "## Answer:  Setup a design space in a new way"
   ]
  },
  {
   "cell_type": "markdown",
   "metadata": {
    "slideshow": {
     "slide_type": "fragment"
    }
   },
   "source": [
    "\n",
    "### A design space consists of several form parameters:\n",
    "$$\n",
    "\\begin{eqnarray*}\n",
    "\\nabla & : & \\text{volumetric displacement} \\\\\n",
    "\\text{L}_{\\text{WL}} & : & \\text{length along the waterline} \\\\\n",
    "\\text{B} & : & \\text{width at midship} \\\\\n",
    "\\text{D} & : & \\text{distance from waterline to the keel} \\\\\n",
    "\\text{A}_{\\text{M}} & : & \\text{midship area} \\\\\n",
    "\\text{C}_{\\text{B}} & : & \\text{block coefficient} \\\\\n",
    "\\text{C}_{\\text{M}}  & : & \\text{midship coefficient} \n",
    "\\end{eqnarray*}\n",
    "$$\n",
    "(in general on the order of 20-30 parameters and design ratios)"
   ]
  },
  {
   "cell_type": "markdown",
   "metadata": {
    "slideshow": {
     "slide_type": "slide"
    }
   },
   "source": [
    "\n",
    "Find a form parameter, _interval_ valued, thin, \n",
    "    $\\textit{ design space}$, $\\text{S}$\n",
    "    \n",
    "\\begin{equation}\n",
    "S_{j}=[\\underline{S_{j}},\\overline{S_{j}}]\n",
    "\\end{equation}\n",
    "\n",
    "such that all constraints and relations \n",
    "are feasible,  and the form  parameter design \n",
    "program  returns a valid hull  geometry.\n"
   ]
  },
  {
   "cell_type": "markdown",
   "metadata": {
    "slideshow": {
     "slide_type": "slide"
    }
   },
   "source": [
    "## What am I talking about?"
   ]
  },
  {
   "cell_type": "markdown",
   "metadata": {
    "slideshow": {
     "slide_type": "fragment"
    }
   },
   "source": [
    "\n",
    "## 2 Philosophical Choices:\n",
    "\n",
    "\n",
    " * From single design to operating on the _entire_ design space at once\n",
    "   * via _Interval arithmetic_  (that surely needs explaining)\n",
    "   \n",
    "   \n",
    " * How to solve this system of rules (interval equations)\n",
    "   *  Matrix of linear equations?\n",
    "   *  Local consistencies?  (constraint programming)\n",
    "   \n",
    "We choose local consistencies for the technical reason that matrix interval methods often need local consistencies anyway."
   ]
  },
  {
   "cell_type": "markdown",
   "metadata": {
    "slideshow": {
     "slide_type": "slide"
    }
   },
   "source": [
    "# Interval Arithmetic, briefly considered."
   ]
  },
  {
   "cell_type": "code",
   "execution_count": 19,
   "metadata": {
    "slideshow": {
     "slide_type": "skip"
    }
   },
   "outputs": [],
   "source": [
    "ia = rsp.ia                                         #interval analysis class\n",
    "\n",
    "lp = rsp.lp # miniKanren - like relational logic, extended for intervals.\n",
    "\n",
    "from relational_lsplines.simple_hull_rules_language import HullGeometryGenerator"
   ]
  },
  {
   "cell_type": "markdown",
   "metadata": {
    "slideshow": {
     "slide_type": "slide"
    }
   },
   "source": [
    "# Interval Arithmetic, in one slide\n",
    "\n",
    "$$\n",
    "\\left(1.,2.\\right) +\\left(0.,5.\\right) = \\left( 1., 7. \\right)\n",
    "$$\n",
    " * It's based on closed intervals of real numbers.\n",
    " * e.g. $\\left(1.,2.\\right)$ defines a continuum from $1.$ to $2.$ inclusive.\n",
    " * Operations composed of intervals and\n",
    "     bound the range of corresponding real operations, rigorously, using outward rounding, on real computer hardware.\n",
    "\n",
    "### Note: update of old data by new proceeds by taking the intersection.\n",
    "This is absolutely essential interval constraint and interval optimization, programming."
   ]
  },
  {
   "cell_type": "code",
   "execution_count": 20,
   "metadata": {
    "slideshow": {
     "slide_type": "fragment"
    }
   },
   "outputs": [
    {
     "name": "stdout",
     "output_type": "stream",
     "text": [
      "c =  ia(1.0,7.0)\n",
      "c =  ia(1.0,3.0)\n"
     ]
    }
   ],
   "source": [
    "a = ia(1.,2.)\n",
    "b = ia(0.,5.)\n",
    "c = ia(-1000.,1000.)\n",
    "c = c & (a+b)\n",
    "print 'c = ',c\n",
    "\n",
    "c = ia(-2.,3.)\n",
    "c = c & (a+b)\n",
    "print 'c = ',c"
   ]
  },
  {
   "cell_type": "markdown",
   "metadata": {
    "slideshow": {
     "slide_type": "slide"
    }
   },
   "source": [
    "How do we use an interval valued rule to eliminate infeasible designs?\n"
   ]
  },
  {
   "cell_type": "markdown",
   "metadata": {
    "slideshow": {
     "slide_type": "fragment"
    }
   },
   "source": [
    "\t\n",
    "# Interval Constraint programming."
   ]
  },
  {
   "cell_type": "markdown",
   "metadata": {
    "slideshow": {
     "slide_type": "slide"
    }
   },
   "source": [
    "## Forward Backward Constraint Propagation\n",
    "\n",
    "Let's show how a forward backward algorithm works\n",
    "using a simple mathematical expression:\n",
    "$$\n",
    "\\left(x_{1} + x_{2}\\right) \\times x_{3} \\in \\left[1.,2.\\right]\n",
    "$$"
   ]
  },
  {
   "cell_type": "markdown",
   "metadata": {
    "slideshow": {
     "slide_type": "slide"
    }
   },
   "source": [
    "## Build the syntax tree\n",
    "\n",
    "![title](fig/syntax_tree.png)"
   ]
  },
  {
   "cell_type": "markdown",
   "metadata": {
    "slideshow": {
     "slide_type": "slide"
    }
   },
   "source": [
    "## Forward Backward Contractor, Intermediate Terms:\n",
    "![title](fig/Intermediate_terms.png)\n"
   ]
  },
  {
   "cell_type": "markdown",
   "metadata": {
    "slideshow": {
     "slide_type": "slide"
    }
   },
   "source": [
    "## Forward Backward Contractor, Forward Pass:\n",
    "![title](fig/fwd_pass.png)\n"
   ]
  },
  {
   "cell_type": "markdown",
   "metadata": {
    "slideshow": {
     "slide_type": "slide"
    }
   },
   "source": [
    "## Forward Backward Contractor, Backward Pass:\n",
    "![title](fig/bwd_pass.png)\n"
   ]
  },
  {
   "cell_type": "markdown",
   "metadata": {
    "slideshow": {
     "slide_type": "skip"
    }
   },
   "source": [
    "## Update Rule:\n",
    "\n",
    "## Update\n"
   ]
  },
  {
   "cell_type": "markdown",
   "metadata": {
    "slideshow": {
     "slide_type": "skip"
    }
   },
   "source": [
    "\n",
    "## Of old data by new data\n"
   ]
  },
  {
   "cell_type": "markdown",
   "metadata": {
    "slideshow": {
     "slide_type": "skip"
    }
   },
   "source": [
    "\n",
    "\n",
    "## Proceeds By Intersection"
   ]
  },
  {
   "cell_type": "markdown",
   "metadata": {
    "slideshow": {
     "slide_type": "slide"
    }
   },
   "source": [
    "How do we make it work for arbitrary systems of rules?\n"
   ]
  },
  {
   "cell_type": "markdown",
   "metadata": {
    "slideshow": {
     "slide_type": "fragment"
    }
   },
   "source": [
    "## Unification"
   ]
  },
  {
   "cell_type": "markdown",
   "metadata": {
    "slideshow": {
     "slide_type": "fragment"
    }
   },
   "source": [
    "\n",
    "Is an algorithm for making two things equal.  (within an environment)\n",
    "\n",
    "Data can flow in either direction across the equals sign."
   ]
  },
  {
   "cell_type": "code",
   "execution_count": 21,
   "metadata": {
    "slideshow": {
     "slide_type": "slide"
    }
   },
   "outputs": [],
   "source": [
    "fragment= \\\n",
    "\"\"\"\n",
    "def unify(self, a, b):\n",
    "    ivars = a,b # a and b are logical variables, now saved in ivars\n",
    "    a = self.value_of(a) # get the value of a \n",
    "    b = self.value_of(b) # get the value of b\n",
    "    #...\n",
    "    if isinstance(a, ia) and isinstance(b, ia):\n",
    "        values = copy.copy(self.values) # self.values maps vars to values\n",
    "        # this is the \"environment\"\n",
    "        values[ivars[0]] = a & b\n",
    "        values[ivars[1]] = values[ivars[0]] & b\n",
    "    #...\n",
    "\"\"\""
   ]
  },
  {
   "cell_type": "markdown",
   "metadata": {
    "slideshow": {
     "slide_type": "slide"
    }
   },
   "source": [
    "Issue:  unification always acts on 2 terms."
   ]
  },
  {
   "cell_type": "markdown",
   "metadata": {
    "slideshow": {
     "slide_type": "fragment"
    }
   },
   "source": [
    "## How do we make logical constraint relations work for any mathmatical statement?"
   ]
  },
  {
   "cell_type": "markdown",
   "metadata": {
    "slideshow": {
     "slide_type": "slide"
    }
   },
   "source": [
    "## Answer:  Compile mathmatical expressions into syntax trees\n",
    "\n",
    "Use operator overloading to build a tree of relational terms from a mathmatical expression.\n",
    " * Operator overloading handles parsing of n-ary \n",
    "    mathematical terms into ternary constraints.\n",
    " * The overloading class must Store \n",
    "   * the ternary elements of a computation\n",
    "   * Also store the operation used to combine two of them into the other\n",
    " * Then we methodically convert those \n",
    "    ternary constraints into\n",
    "    binary logical rules and perform unification on them.\n",
    " * We keep track of what terms are used in what rules.\n",
    "    \n",
    "Data can then flow freely between our terms and across rules\n",
    "\n",
    "This is constraint logic programming."
   ]
  },
  {
   "cell_type": "markdown",
   "metadata": {
    "slideshow": {
     "slide_type": "slide"
    }
   },
   "source": [
    "## Let's look at an example design space and see what a rule looks like\n",
    "\n"
   ]
  },
  {
   "cell_type": "code",
   "execution_count": 22,
   "metadata": {
    "slideshow": {
     "slide_type": "-"
    }
   },
   "outputs": [],
   "source": [
    "\"\"\"Make some design space variables:\n",
    "\"\"\"\n",
    "lwl = lp.PStates(name='lwl')\n",
    "bwl = lp.PStates(name='bwl')\n",
    "draft = lp.PStates(name='draft')\n",
    "vol = lp.PStates(name='vol')\n",
    "disp = lp.PStates(name='disp')\n",
    "\n",
    "Cb = lp.PStates(name='Cb')\n",
    "Cp = lp.PStates(name='Cp')\n"
   ]
  },
  {
   "cell_type": "markdown",
   "metadata": {
    "slideshow": {
     "slide_type": "fragment"
    }
   },
   "source": [
    "## To make it a real interval desgin space, \n"
   ]
  },
  {
   "cell_type": "code",
   "execution_count": 23,
   "metadata": {
    "slideshow": {
     "slide_type": "-"
    }
   },
   "outputs": [],
   "source": [
    "\n",
    "vol = vol == ia(50000.,100000.)\n",
    "bwl = bwl == ia(25.,30.)\n",
    "\n",
    "#etc"
   ]
  },
  {
   "cell_type": "markdown",
   "metadata": {
    "slideshow": {
     "slide_type": "slide"
    }
   },
   "source": [
    "## Let's see what a rule syntax tree looks like\n",
    "\n"
   ]
  },
  {
   "cell_type": "code",
   "execution_count": 24,
   "metadata": {
    "scrolled": true,
    "slideshow": {
     "slide_type": "fragment"
    }
   },
   "outputs": [
    {
     "name": "stdout",
     "output_type": "stream",
     "text": [
      "'Cb'==\n",
      "   'v3'/\n",
      "      'vol'==\n",
      "         'ia(50000.0,100000.0)' \n",
      "        \n",
      "      'v2'*\n",
      "         'v1'*\n",
      "            'lwl' \n",
      "        \n",
      "            'bwl'==\n",
      "               'ia(25.0,30.0)' \n",
      "        \n",
      "         'draft' \n",
      "        \n",
      "\n"
     ]
    }
   ],
   "source": [
    "\"\"\"-----------------------------------------------\n",
    "#rule: block coefficient\n",
    "\"\"\"\n",
    "Cb = Cb == vol/(lwl*bwl*draft)\n",
    "\n",
    "print Cb"
   ]
  },
  {
   "cell_type": "markdown",
   "metadata": {
    "slideshow": {
     "slide_type": "fragment"
    }
   },
   "source": [
    "Python automatically creates temporaries so that all operators act to combine two terms into a third.\n",
    "\n",
    "This let's us walk the tree in reverse to compile logical rules.\n",
    "\n",
    "We keep track of what terms are used in what rules."
   ]
  },
  {
   "cell_type": "markdown",
   "metadata": {
    "slideshow": {
     "slide_type": "slide"
    }
   },
   "source": [
    "## Constraints are Compiled Into a Graph:\n",
    "\n",
    "\n",
    "<img src=\"fig/PrimaryConstraintGraph.png\" alt=\"Drawing\" style=\"width: 700px;\"/>"
   ]
  },
  {
   "cell_type": "markdown",
   "metadata": {
    "slideshow": {
     "slide_type": "slide"
    }
   },
   "source": [
    "## So now, when one term updates information due to some rule.\n",
    "\n",
    "### Call all the other rules that term is used in.\n",
    "\n",
    "### Other terms update during the rule processing as well.\n",
    "\n",
    "### So call their rules too!\n",
    "\n",
    "### Thanks to update by intersection, termination will occur\n"
   ]
  },
  {
   "cell_type": "markdown",
   "metadata": {
    "slideshow": {
     "slide_type": "skip"
    }
   },
   "source": [
    "With a section curve, one constraint is that the area of the section should fit in a box:\n",
    "\n",
    "<img src=\"fig/midship_section.png\" alt=\"Drawing\" style=\"width: 400px;\"/>"
   ]
  },
  {
   "cell_type": "markdown",
   "metadata": {
    "slideshow": {
     "slide_type": "slide"
    }
   },
   "source": [
    "\n",
    "How do we get a single boat out of it?\n",
    "\n",
    "## Select numbers at random, from the feasible domain"
   ]
  },
  {
   "cell_type": "markdown",
   "metadata": {
    "slideshow": {
     "slide_type": "fragment"
    }
   },
   "source": [
    " * Iterate over the design space one variable at a time\n",
    " * Pick a number from the feasible domain at random\n",
    " * Use constraint propagation to update all the other design variables with the new data.\n",
    " <br>\n",
    " (This eliminates swaths of the design space each time)\n",
    " * Once a single design is determined, do form parameter design."
   ]
  },
  {
   "cell_type": "markdown",
   "metadata": {
    "slideshow": {
     "slide_type": "slide"
    }
   },
   "source": [
    "## Resultant hull constraint combinations were always feasible\n",
    "\n",
    "<img src=\"fig/Cb_def.png\" alt=\"Drawing\" style=\"width: 700px;\"/>\n"
   ]
  },
  {
   "cell_type": "markdown",
   "metadata": {
    "slideshow": {
     "slide_type": "fragment"
    }
   },
   "source": [
    "This made it easy to have form parameter design solve for a decent looking hull"
   ]
  },
  {
   "cell_type": "markdown",
   "metadata": {
    "slideshow": {
     "slide_type": "slide"
    }
   },
   "source": [
    "## Resulting solved curve form parameters had little error\n",
    "\n",
    "<img src=\"fig/results1.png\" alt=\"Drawing\" style=\"width: 700px;\"/>\n",
    "\n"
   ]
  },
  {
   "cell_type": "markdown",
   "metadata": {
    "slideshow": {
     "slide_type": "-"
    }
   },
   "source": [
    "However, by the time the surface is generated, the fit is no longer prefect\n",
    "(future work!)"
   ]
  },
  {
   "cell_type": "markdown",
   "metadata": {
    "slideshow": {
     "slide_type": "slide"
    }
   },
   "source": [
    "## Details:  I used spatial splitting (and THB-splines) for fine grained form paremter design\n",
    "\n",
    "<img src=\"fig/OSVMultiSurfColor.png\" alt=\"Drawing\" style=\"width: 700px;\"/>"
   ]
  },
  {
   "cell_type": "markdown",
   "metadata": {
    "slideshow": {
     "slide_type": "slide"
    }
   },
   "source": [
    "## Details:  Together with Auto Diff, this allowed much freedom to sculpt interfaces between surface\n",
    "\n",
    "<img src=\"fig/FFCinfluence1.png\" alt=\"Drawing\" style=\"width: 700px;\"/>"
   ]
  },
  {
   "cell_type": "markdown",
   "metadata": {
    "slideshow": {
     "slide_type": "slide"
    }
   },
   "source": [
    "But I am not using form parameter design to it's fullest.\n"
   ]
  },
  {
   "cell_type": "markdown",
   "metadata": {
    "slideshow": {
     "slide_type": "fragment"
    }
   },
   "source": [
    "## I focused on making it easier to use."
   ]
  },
  {
   "cell_type": "markdown",
   "metadata": {
    "slideshow": {
     "slide_type": "slide"
    }
   },
   "source": [
    "# Thank you for your attention!\n",
    "\n",
    "Any questions?"
   ]
  }
 ],
 "metadata": {
  "celltoolbar": "Slideshow",
  "kernelspec": {
   "display_name": "Python 2",
   "language": "python",
   "name": "python2"
  },
  "language_info": {
   "codemirror_mode": {
    "name": "ipython",
    "version": 2
   },
   "file_extension": ".py",
   "mimetype": "text/x-python",
   "name": "python",
   "nbconvert_exporter": "python",
   "pygments_lexer": "ipython2",
   "version": "2.7.16"
  }
 },
 "nbformat": 4,
 "nbformat_minor": 2
}
