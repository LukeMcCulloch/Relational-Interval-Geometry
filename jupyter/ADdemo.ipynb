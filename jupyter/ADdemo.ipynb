{
 "cells": [
  {
   "cell_type": "markdown",
   "metadata": {
    "slideshow": {
     "slide_type": "slide"
    }
   },
   "source": [
    "## Automation\n",
    "  - In Which I pick a problem to Automate and tell you about it\n",
    "  \n",
    "## Automated Design\n",
    "  - As functional minimization (extrema finding)"
   ]
  },
  {
   "cell_type": "markdown",
   "metadata": {
    "slideshow": {
     "slide_type": "slide"
    }
   },
   "source": [
    "## Automatic Differentiation \n",
    "  - Programming without (as much) Programming\n",
    "  \n",
    "## Interval constraint programming  \n",
    "  - Design without (as much) search\n",
    "  \n",
    "## Results"
   ]
  },
  {
   "cell_type": "markdown",
   "metadata": {
    "slideshow": {
     "slide_type": "slide"
    }
   },
   "source": [
    "![title](fig/RapidHull.png)"
   ]
  },
  {
   "cell_type": "code",
   "execution_count": null,
   "metadata": {
    "slideshow": {
     "slide_type": "skip"
    }
   },
   "outputs": [],
   "source": [
    "import warnings\n",
    "warnings.filterwarnings('ignore') #sorry, I've got old code that needs updating -- shame on me!\n",
    "\n"
   ]
  },
  {
   "cell_type": "code",
   "execution_count": null,
   "metadata": {
    "slideshow": {
     "slide_type": "skip"
    }
   },
   "outputs": [],
   "source": []
  },
  {
   "cell_type": "code",
   "execution_count": null,
   "metadata": {
    "slideshow": {
     "slide_type": "slide"
    }
   },
   "outputs": [],
   "source": [
    "import relational_lsplines as rsp #my stuff\n",
    "\n",
    "import numpy as np #linear algebra"
   ]
  },
  {
   "cell_type": "code",
   "execution_count": null,
   "metadata": {
    "slideshow": {
     "slide_type": "skip"
    }
   },
   "outputs": [],
   "source": [
    "\n",
    "np.set_printoptions(precision=3)"
   ]
  },
  {
   "cell_type": "code",
   "execution_count": null,
   "metadata": {
    "slideshow": {
     "slide_type": "slide"
    }
   },
   "outputs": [],
   "source": [
    "curve = rsp.curve #Bspline curve and surface module\n",
    "\n",
    "\n",
    "automatic_differentiation = rsp.automatic_differentiation #automatic_differentiation \"module\"\n",
    "                    # simple fwd mode with vectors and intervals supported\n",
    "\n",
    "adObjectMaker = automatic_differentiation.adObjectMaker\n",
    "\n",
    "ad = automatic_differentiation.ad                   #automatic differentiation class\n"
   ]
  },
  {
   "cell_type": "code",
   "execution_count": null,
   "metadata": {
    "slideshow": {
     "slide_type": "slide"
    }
   },
   "outputs": [],
   "source": [
    "num_in_vec = 2  # problem space size\n",
    "\n",
    "identity = np.identity(num_in_vec)\n",
    "\n",
    "nullmatrix = np.zeros((num_in_vec,num_in_vec),float)"
   ]
  },
  {
   "cell_type": "code",
   "execution_count": null,
   "metadata": {
    "slideshow": {
     "slide_type": "slide"
    }
   },
   "outputs": [],
   "source": [
    "x0 = ad( 2., \n",
    "        grad = identity[0], \n",
    "        hess = nullmatrix, \n",
    "        of_scalars=True)\n",
    "\n",
    "print 'x0.value = ',x0.value\n",
    "print 'x0.grad  = ', x0.grad\n",
    "print 'x0.hess  = '\n",
    "print x0.hess"
   ]
  },
  {
   "cell_type": "markdown",
   "metadata": {
    "slideshow": {
     "slide_type": "slide"
    }
   },
   "source": [
    "So we have created a variable, x0\n",
    "\n",
    "We gave it a gradient and hessian associated with it, \n",
    "with sizes denoted by the problem space. \n",
    "\n",
    "Later, this part will be automated too.\n"
   ]
  },
  {
   "cell_type": "code",
   "execution_count": null,
   "metadata": {
    "slideshow": {
     "slide_type": "slide"
    }
   },
   "outputs": [],
   "source": [
    "x1 = ad( 2., \n",
    "        grad = identity[1], \n",
    "        hess = nullmatrix, \n",
    "        of_scalars=True)\n",
    "\n",
    "print ''\n",
    "print 'x1.value = ',x1.value\n",
    "print 'x1.grad  = ', x1.grad\n",
    "print 'x1.hess  = '\n",
    "print x1.hess"
   ]
  },
  {
   "cell_type": "code",
   "execution_count": null,
   "metadata": {
    "slideshow": {
     "slide_type": "slide"
    }
   },
   "outputs": [],
   "source": [
    "test = x0 + x1**2\n",
    "print '\\ntest value'\n",
    "print test.value\n",
    "print '\\ntest gradient'\n",
    "print test.grad\n",
    "print '\\ntest hessian'\n",
    "print test.hess"
   ]
  },
  {
   "cell_type": "code",
   "execution_count": null,
   "metadata": {
    "slideshow": {
     "slide_type": "skip"
    }
   },
   "outputs": [],
   "source": []
  },
  {
   "cell_type": "code",
   "execution_count": null,
   "metadata": {},
   "outputs": [],
   "source": []
  },
  {
   "cell_type": "code",
   "execution_count": null,
   "metadata": {},
   "outputs": [],
   "source": []
  }
 ],
 "metadata": {
  "celltoolbar": "Slideshow",
  "kernelspec": {
   "display_name": "Python 2",
   "language": "python",
   "name": "python2"
  },
  "language_info": {
   "codemirror_mode": {
    "name": "ipython",
    "version": 2
   },
   "file_extension": ".py",
   "mimetype": "text/x-python",
   "name": "python",
   "nbconvert_exporter": "python",
   "pygments_lexer": "ipython2",
   "version": "2.7.16"
  }
 },
 "nbformat": 4,
 "nbformat_minor": 2
}
